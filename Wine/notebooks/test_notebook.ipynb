{
 "cells": [
  {
   "cell_type": "code",
   "execution_count": 2,
   "metadata": {},
   "outputs": [],
   "source": [
    "import sys\n",
    "sys.path.append('D:/Learn/git/supervised-learning/model_bin')  \n",
    "import pandas as pd\n",
    "import numpy as np\n",
    "import matplotlib.pyplot as plt\n",
    "from sklearn.preprocessing import MinMaxScaler\n",
    "from sklearn.metrics import r2_score\n",
    "from sklearn.model_selection import train_test_split\n",
    "import linear_regression as lr"
   ]
  },
  {
   "cell_type": "code",
   "execution_count": 3,
   "metadata": {},
   "outputs": [],
   "source": [
    "raw_data=pd.read_csv('../data/raw_data.csv')\n",
    "features= ['fixed acidity','volatile acidity','citric acid','residual sugar','chlorides','free sulfur dioxide','total sulfur dioxide','density','pH','sulphates','alcohol']\n",
    "target=['quality']\n",
    "X=raw_data[features]\n",
    "y=raw_data[target]\n",
    "X_train, X_test, y_train, y_test=train_test_split(X,y,test_size=0.4)\n",
    "X_val, X_test, y_val, y_test=train_test_split(X_test,y_test,test_size=0.3)"
   ]
  },
  {
   "cell_type": "code",
   "execution_count": 4,
   "metadata": {},
   "outputs": [
    {
     "data": {
      "text/plain": [
       "(959, 1)"
      ]
     },
     "execution_count": 4,
     "metadata": {},
     "output_type": "execute_result"
    }
   ],
   "source": [
    "y_train.shape"
   ]
  },
  {
   "cell_type": "code",
   "execution_count": 5,
   "metadata": {},
   "outputs": [
    {
     "name": "stdout",
     "output_type": "stream",
     "text": [
      "(959, 11) (959, 1)\n",
      "iteration    0: Cost   143.70 \n",
      "iteration  400: Cost    29.83 \n",
      "iteration  800: Cost    14.51 \n",
      "iteration 1200: Cost    12.45 \n",
      "iteration 1600: Cost    12.18 \n",
      "iteration 2000: Cost    12.14 \n",
      "iteration 2400: Cost    12.13 \n",
      "iteration 2800: Cost    12.13 \n",
      "iteration 3200: Cost    12.13 \n",
      "iteration 3600: Cost    12.13 \n"
     ]
    }
   ],
   "source": [
    "alpha=2.5e-3\n",
    "epoch=4000\n",
    "theta_initial=np.zeros(((X_train.shape[1]),))\n",
    "b_initial=0\n",
    "theta_final,b_final,cost_hist=lr.gradient_descent(X_train,theta_initial,b_initial,y_train,alpha,epoch)"
   ]
  },
  {
   "cell_type": "code",
   "execution_count": 6,
   "metadata": {},
   "outputs": [
    {
     "data": {
      "text/plain": [
       "[<matplotlib.lines.Line2D at 0x25e9c182dd0>]"
      ]
     },
     "execution_count": 6,
     "metadata": {},
     "output_type": "execute_result"
    },
    {
     "data": {
      "image/png": "[encoded data removed]",
      "text/plain": [
       "<Figure size 640x480 with 1 Axes>"
      ]
     },
     "metadata": {},
     "output_type": "display_data"
    }
   ],
   "source": [
    "plt.plot(cost_hist)"
   ]
  },
  {
   "cell_type": "code",
   "execution_count": 8,
   "metadata": {},
   "outputs": [
    {
     "name": "stdout",
     "output_type": "stream",
     "text": [
      "(448, 11) (448, 1)\n"
     ]
    },
    {
     "data": {
      "text/plain": [
       "6.439920413997892"
      ]
     },
     "execution_count": 8,
     "metadata": {},
     "output_type": "execute_result"
    }
   ],
   "source": [
    "lr.val_scores(X_val,y_val,theta_final,b_final)"
   ]
  },
  {
   "cell_type": "code",
   "execution_count": null,
   "metadata": {},
   "outputs": [],
   "source": []
  }
 ],
 "metadata": {
  "kernelspec": {
   "display_name": "Python 3",
   "language": "python",
   "name": "python3"
  },
  "language_info": {
   "codemirror_mode": {
    "name": "ipython",
    "version": 3
   },
   "file_extension": ".py",
   "mimetype": "text/x-python",
   "name": "python",
   "nbconvert_exporter": "python",
   "pygments_lexer": "ipython3",
   "version": "3.11.3"
  },
  "orig_nbformat": 4
 },
 "nbformat": 4,
 "nbformat_minor": 2
}
